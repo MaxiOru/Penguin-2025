{
 "cells": [
  {
   "cell_type": "code",
   "execution_count": 2,
   "metadata": {},
   "outputs": [
    {
     "name": "stdout",
     "output_type": "stream",
     "text": [
      "Hola mundo\n"
     ]
    }
   ],
   "source": [
    "print (\"Hola mundo\")"
   ]
  },
  {
   "cell_type": "markdown",
   "metadata": {},
   "source": [
    "## Variable\n"
   ]
  },
  {
   "cell_type": "code",
   "execution_count": null,
   "metadata": {},
   "outputs": [],
   "source": []
  },
  {
   "cell_type": "markdown",
   "metadata": {},
   "source": [
    "## Challenge 🤺 - 20m\n",
    "\n",
    "Suma: asignar dos números en dos variables diferentes cantidad_de_manzanas y cantidad_de_naranjas. Luego sumar ambas variables en cantidad_de_frutas. Imprimir la última variable.\n",
    "\n",
    "Resta: asignar un valor numérico a la variable frutas_vendidas. Luego, asignar la resta entre cantidad_de_frutas y frutas_vendidas a la variable frutas_restantes. Imprimir la última variable."
   ]
  },
  {
   "cell_type": "code",
   "execution_count": null,
   "metadata": {},
   "outputs": [
    {
     "name": "stdout",
     "output_type": "stream",
     "text": [
      "La catidad de frutas son: 24\n",
      "Las frutas restantes son:  6\n"
     ]
    }
   ],
   "source": [
    "#SUMA\n",
    "cantidad_de_manzanas = 12\n",
    "cantidad_de_naranjas = 12\n",
    "\n",
    "cantidad_de_frutas = cantidad_de_manzanas + cantidad_de_naranjas \n",
    "\n",
    "print(\"La catidad de frutas son:\", cantidad_de_frutas)\n",
    "\n",
    "#RESTA\n",
    "frutas_vendidas = 18\n",
    "frutas_restantes = cantidad_de_frutas - frutas_vendidas\n",
    "\n",
    "print (\"Las frutas restantes son: \",frutas_restantes)\n"
   ]
  },
  {
   "cell_type": "markdown",
   "metadata": {},
   "source": [
    "## Challenge 🤺 - 15m\n",
    "Asignar el nombre y el apellido de tu compañera/o a las variables nombre y apellido. Luego, imprimir una frase, utilizando las variables.\n",
    "EJEMPLO: \"Hola. Me llamo Claudia Melgarejo. Mucho gusto.\"\n"
   ]
  },
  {
   "cell_type": "code",
   "execution_count": 4,
   "metadata": {},
   "outputs": [
    {
     "name": "stdout",
     "output_type": "stream",
     "text": [
      "Hola, mi compañero de codepro se llama Iván Ortiz\n"
     ]
    }
   ],
   "source": [
    "nombre= \"Iván\"\n",
    "apellido = \"Ortiz\"\n",
    "print (f\"Hola, mi compañero de codepro se llama {nombre} {apellido}\")"
   ]
  },
  {
   "cell_type": "markdown",
   "metadata": {},
   "source": [
    "##Challenge 🤺 - 10m\n",
    "Solicitar al usuario ingresar dos números y almacenarlos en dos variables. Luego, imprimir la suma de los dos números."
   ]
  },
  {
   "cell_type": "code",
   "execution_count": null,
   "metadata": {},
   "outputs": [
    {
     "name": "stdout",
     "output_type": "stream",
     "text": [
      "La suma es: 7\n"
     ]
    }
   ],
   "source": [
    "numero1= int(input(\"Ingresa el primer numero entero\"))\n",
    "numero2= int(input(\"Ingresa el segundo numero entero\"))\n",
    "print(f\"La suma es: {numero1 + numero2}\")"
   ]
  },
  {
   "cell_type": "code",
   "execution_count": 7,
   "metadata": {},
   "outputs": [
    {
     "name": "stdout",
     "output_type": "stream",
     "text": [
      "Abrir el pan\n",
      "Agregar jamon\n",
      "Agrerar el queso\n",
      "Cerrar el pan\n",
      "Listo\n"
     ]
    }
   ],
   "source": [
    "def preparar_sandwich():\n",
    "     print(\"Abrir el pan\")\n",
    "     print(\"Agregar jamon\")\n",
    "     print(\"Agrerar el queso\")\n",
    "     print(\"Cerrar el pan\")\n",
    "     print (\"Listo\")\n",
    "\n",
    "preparar_sandwich()\n"
   ]
  },
  {
   "cell_type": "markdown",
   "metadata": {},
   "source": [
    "## Challenge 🤺 - 10m\n",
    "Crear una función de un proceso que se les ocurra que tenga varios pasos.\n",
    "Ejecutar la función 3 veces."
   ]
  },
  {
   "cell_type": "code",
   "execution_count": 8,
   "metadata": {},
   "outputs": [
    {
     "name": "stdout",
     "output_type": "stream",
     "text": [
      "desbloquedar el auto\n",
      "sentarse en el asiento del chofer\n",
      "asegurarse que este en punto neutro\n",
      "meter la llave en el lugar asignado\n",
      "Mientas giras la llave pisar el embregue\n",
      "Listo!\n",
      "desbloquedar el auto\n",
      "sentarse en el asiento del chofer\n",
      "asegurarse que este en punto neutro\n",
      "meter la llave en el lugar asignado\n",
      "Mientas giras la llave pisar el embregue\n",
      "Listo!\n",
      "desbloquedar el auto\n",
      "sentarse en el asiento del chofer\n",
      "asegurarse que este en punto neutro\n",
      "meter la llave en el lugar asignado\n",
      "Mientas giras la llave pisar el embregue\n",
      "Listo!\n"
     ]
    }
   ],
   "source": [
    "# como arrancar el auto\n",
    "\n",
    "def arrancar_auto ():\n",
    "    print (\"desbloquedar el auto\")\n",
    "    print (\"sentarse en el asiento del chofer\")\n",
    "    print (\"asegurarse que este en punto neutro\")\n",
    "    print (\"meter la llave en el lugar asignado\")\n",
    "    print (\"Mientas giras la llave pisar el embregue\")\n",
    "    print (\"Listo!\")\n",
    "    \n",
    "arrancar_auto()\n",
    "arrancar_auto()\n",
    "arrancar_auto()"
   ]
  },
  {
   "cell_type": "markdown",
   "metadata": {},
   "source": [
    "## Challenge 🤺 - 15m\n",
    "Escribir una funcion que nos pregunte las caracteriticas de un elemento a comprar e imprima el elemento con sus caracteristicas."
   ]
  },
  {
   "cell_type": "code",
   "execution_count": 12,
   "metadata": {},
   "outputs": [
    {
     "name": "stdout",
     "output_type": "stream",
     "text": [
      "las caractersitcas del celular son: accesible, liviano y compacto\n"
     ]
    }
   ],
   "source": [
    "def caracteristicas_del_elemento (caracteristica):\n",
    "    print (f\"las caractersitcas del celular son: {caracteristica}\")\n",
    "\n",
    "\n",
    "caracteristicas_del_elemento(\"accesible, liviano y compacto\")\n",
    "\n",
    "\n"
   ]
  }
 ],
 "metadata": {
  "kernelspec": {
   "display_name": "Python 3",
   "language": "python",
   "name": "python3"
  },
  "language_info": {
   "codemirror_mode": {
    "name": "ipython",
    "version": 3
   },
   "file_extension": ".py",
   "mimetype": "text/x-python",
   "name": "python",
   "nbconvert_exporter": "python",
   "pygments_lexer": "ipython3",
   "version": "3.13.1"
  }
 },
 "nbformat": 4,
 "nbformat_minor": 2
}
