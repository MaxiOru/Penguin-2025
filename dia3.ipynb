{
 "cells": [
  {
   "cell_type": "markdown",
   "id": "ae41ab30",
   "metadata": {},
   "source": [
    "## Challenge 1 🤺 - 10m\n",
    "Crear una función que imprima la variable palabra."
   ]
  },
  {
   "cell_type": "code",
   "execution_count": 8,
   "id": "6fd0d060",
   "metadata": {},
   "outputs": [
    {
     "name": "stdout",
     "output_type": "stream",
     "text": [
      "la variable es: hola\n"
     ]
    }
   ],
   "source": [
    "def imprimir_variable ():\n",
    "    palabra = \"hola\"\n",
    "    print (f\"la variable es: {palabra}\")\n",
    "    \n",
    "imprimir_variable()\n"
   ]
  },
  {
   "cell_type": "markdown",
   "id": "1fe4da66",
   "metadata": {},
   "source": [
    "## Challenge 2 🤺 - 20 min\n",
    "Crear una función que reciba dos letras (parámetros) y que verifique si son iguales:\n",
    "\n",
    "Si son iguales, imprimir \"Las letras son iguales\".\n",
    "\n",
    "De lo contrario, imprimir \"Las letras son diferentes\"."
   ]
  },
  {
   "cell_type": "code",
   "execution_count": 14,
   "id": "d5792676",
   "metadata": {},
   "outputs": [
    {
     "name": "stdout",
     "output_type": "stream",
     "text": [
      "Las letras son diferentes.\n"
     ]
    }
   ],
   "source": [
    "def comparacion_letras (letra1, letra2):\n",
    "    if letra1.lower() == letra2.lower():\n",
    "        print (\"Las letras son iguales.\")\n",
    "    else:\n",
    "        print (\"Las letras son diferentes.\")\n",
    "\n",
    "variable_letra1= input(\"Ingrese una letra\")\n",
    "variable_letra2= input (\"Ingrese otra leta\")\n",
    "comparacion_letras(variable_letra1, variable_letra2)"
   ]
  },
  {
   "cell_type": "markdown",
   "id": "c85526fa",
   "metadata": {},
   "source": [
    "## Challenge 3 🤺 - 20m\n",
    "Crear una función que reciba dos parámetros (una palabra y un número), y que retorne True si el número es igual a la cantidad de letras de la palabra. En caso contrario, que retorne False.\n",
    "\n",
    "Pista: cantidad de letras de una palabra en python"
   ]
  },
  {
   "cell_type": "code",
   "execution_count": null,
   "id": "9257a369",
   "metadata": {},
   "outputs": [
    {
     "name": "stdout",
     "output_type": "stream",
     "text": [
      "False\n"
     ]
    }
   ],
   "source": [
    "def conteo_letras (palabra, numero):\n",
    "    contador = len(palabra) \n",
    "    if contador == numero:\n",
    "        return True\n",
    "    else:\n",
    "        return False\n",
    "\n",
    "variable1= input(\"Ingrese una palabra\")\n",
    "variable2= int(input(\"Ingrese un numero\"))\n",
    "conteo_letras (variable1, variable2)\n"
   ]
  },
  {
   "cell_type": "markdown",
   "id": "b51d5491",
   "metadata": {},
   "source": [
    "## Challenge 5 🤺 - 25m\n",
    "Pedir al usuario que ingrese 1 palabra, luego convertir esa palabra a una lista con sus caracteres con list(). Agregar esa lista de caracteres a una lista llamada palabras_ingresadas. Repetir el proceso 3 veces. Cada vez que se agregue una lista de caracteres, imprimir la lista palabras_ingresadas.\n",
    "\n",
    "\n",
    "Ejemplo del resultado esperado:\n",
    "\n",
    "[['c', 'i', 'e', 'l', 'o']]\n",
    " # Al ingresar la primera palabra\n",
    "\n",
    "[['c', 'i', 'e', 'l', 'o'], ['c', 'a', 'l', 'o', 'r']]\n",
    " # Al ingresar la segunda palabra\n",
    "\n",
    "[['c', 'i', 'e', 'l', 'o'], ['c', 'a', 'l', 'o', 'r'], ['n', 'u', 'b', 'e', 's']]\n",
    " # Al ingresar la tercera palabra"
   ]
  },
  {
   "cell_type": "code",
   "execution_count": 41,
   "id": "00645852",
   "metadata": {},
   "outputs": [
    {
     "name": "stdout",
     "output_type": "stream",
     "text": [
      "[['p', 'a', 'l', 'a', 'b', 'r', 'a']]\n",
      "[['p', 'a', 'l', 'a', 'b', 'r', 'a'], ['c', 'u', 'a', 't', 'r', 'o']]\n",
      "[['p', 'a', 'l', 'a', 'b', 'r', 'a'], ['c', 'u', 'a', 't', 'r', 'o'], ['l', 'i', 's', 't', 'a']]\n"
     ]
    }
   ],
   "source": [
    "palabra_ingresada = []\n",
    "for i in range (3):\n",
    "    palabra= input(\"Ingrese una palabra\")\n",
    "    lista_auxiliar = list(palabra)\n",
    "    palabra_ingresada.append (lista_auxiliar)\n",
    "    print(palabra_ingresada)"
   ]
  },
  {
   "cell_type": "code",
   "execution_count": 43,
   "id": "82fabc8c",
   "metadata": {},
   "outputs": [
    {
     "name": "stdout",
     "output_type": "stream",
     "text": [
      "[['h', 'e', 'i', 'h', 'f', 'q', 'f']]\n",
      "[['h', 'e', 'i', 'h', 'f', 'q', 'f'], ['q', 'i', 'e', 'i', 'w', 'f', 'o', 'q', 'i', 'r', 'f']]\n",
      "[['h', 'e', 'i', 'h', 'f', 'q', 'f'], ['q', 'i', 'e', 'i', 'w', 'f', 'o', 'q', 'i', 'r', 'f'], ['a', 's', 'd', 'j', 'h']]\n"
     ]
    }
   ],
   "source": [
    "palabra_ingresada = []\n",
    "for i in range (3):\n",
    "    palabra= input(\"Ingrese una palabra\")\n",
    "    palabra_ingresada.append (list(palabra))\n",
    "    print(palabra_ingresada)"
   ]
  },
  {
   "cell_type": "code",
   "execution_count": 44,
   "id": "1c8122f1",
   "metadata": {},
   "outputs": [
    {
     "name": "stdout",
     "output_type": "stream",
     "text": [
      "[['h', 'o', 'l', 'a']]\n",
      "[['h', 'o', 'l', 'a'], ['v', 'o', 's']]\n",
      "[['h', 'o', 'l', 'a'], ['v', 'o', 's'], ['d', 'm', 's']]\n"
     ]
    }
   ],
   "source": [
    "palabra_ingresada = []\n",
    "palabra1= input(\"Ingrese la primer palabra\")\n",
    "palabra_ingresada.append (list(palabra1))\n",
    "print (palabra_ingresada)\n",
    "palabra2= input(\"Ingrese la segunda palabra\")\n",
    "palabra_ingresada.append (list(palabra2))\n",
    "print (palabra_ingresada)\n",
    "palabra3= input(\"Ingrese la tercera palabra\")\n",
    "palabra_ingresada.append (list(palabra3))\n",
    "print (palabra_ingresada)"
   ]
  },
  {
   "cell_type": "markdown",
   "id": "c4a3b861",
   "metadata": {},
   "source": [
    "## Challenge 6 🤺 - 25m\n",
    "Dada la lista de ejemplo: \n",
    "\n",
    "lista = [['h', 'o', 'l', 'i', 's'], ['h', 'e', 'l', 'l', 'o'], ['h', 'a', 'l', 'l', 'o']]\n",
    "\n",
    "Crear una función que imprima una grilla (lista de listas), una línea por cada lista dentro de la lista principal.\n",
    "\n",
    "Ejemplo del resultado esperado:\n",
    "\n",
    "['h', 'o', 'l', 'i', 's']\n",
    "\n",
    "['h', 'e', 'l', 'l', 'o']\n",
    "\n",
    "['h', 'a', 'l', 'l', 'o']\n"
   ]
  },
  {
   "cell_type": "code",
   "execution_count": null,
   "id": "716a1e71",
   "metadata": {},
   "outputs": [
    {
     "name": "stdout",
     "output_type": "stream",
     "text": [
      "['p', 'a', 'l', 'a', 'b', 'r', 'a']\n",
      "['c', 'u', 'a', 't', 'r', 'o']\n",
      "['l', 'i', 's', 't', 'a']\n",
      " \n",
      "['p', 'a', 'l', 'a', 'b', 'r', 'a']\n",
      "['c', 'u', 'a', 't', 'r', 'o']\n",
      "['l', 'i', 's', 't', 'a']\n"
     ]
    }
   ],
   "source": [
    "#FORMA 1\n",
    "lista_variable = [['p', 'a', 'l', 'a', 'b', 'r', 'a'], ['c', 'u', 'a', 't', 'r', 'o'], ['l', 'i', 's', 't', 'a']]\n",
    "def funcion_grilla_lista (lista):\n",
    "    for i in range (3):\n",
    "        print(lista[i])\n",
    "\n",
    "\n",
    "funcion_grilla_lista (lista_variable) \n",
    "\n",
    "\n",
    "print (\" \")\n",
    "\n",
    "#FORMA 2\n",
    "lista_variable = [['p', 'a', 'l', 'a', 'b', 'r', 'a'], ['c', 'u', 'a', 't', 'r', 'o'], ['l', 'i', 's', 't', 'a']]\n",
    "def funcion_grilla_lista (lista):\n",
    "    for i in lista:\n",
    "        print(i)\n",
    "\n",
    "\n",
    "funcion_grilla_lista (lista_variable)"
   ]
  },
  {
   "cell_type": "code",
   "execution_count": 60,
   "id": "0016f3b7",
   "metadata": {},
   "outputs": [
    {
     "name": "stdout",
     "output_type": "stream",
     "text": [
      "['[h]', '[u]', '[e]', '[v]', '[o]']\n"
     ]
    }
   ],
   "source": [
    "def obtener_fila_verificada(palabra_a_encontrar, palabra_ingresada):    # crear una funcion eu contenga dos parametros\n",
    "   \n",
    "    cantidad_de_letras_de_palabras_a_encontrar= 5   #definir la cantidad de letras de la palabra a encontrar\n",
    "\n",
    "    lista_letras_verificadas = []   #Crear una lista vacia para guardar las letras verificadas\n",
    "    \n",
    "    \n",
    "    for posicion in range(cantidad_de_letras_de_palabras_a_encontrar):  # Se crea un bucle q recorre cada posicion de la palabra\n",
    "        #comparar las letras de la misma posicion\n",
    "        las_letras_son_iguales = palabra_a_encontrar[posicion] == palabra_ingresada[posicion]\n",
    "        \n",
    "        # se verifica si la letra existe en la palabra ingresada\n",
    "        la_letra_existe_en_la_palabra= palabra_ingresada[posicion] in palabra_a_encontrar\n",
    "        \n",
    "        if las_letras_son_iguales:\n",
    "            lista_letras_verificadas.append(\"[\" + palabra_ingresada[posicion] + \"]\")\n",
    "            \n",
    "        elif la_letra_existe_en_la_palabra:\n",
    "            lista_letras_verificadas.append(\"(\" + palabra_ingresada[posicion] + \")\")\n",
    "            \n",
    "        else:\n",
    "            lista_letras_verificadas.append(palabra_ingresada[posicion])\n",
    "    return lista_letras_verificadas\n",
    "\n",
    "\n",
    "palabra_a_encontrar = \"huevo\"\n",
    "\n",
    "palabra_ingresada = input(\"Ingrese la palabra de 5 letras: \")\n",
    "\n",
    "linea_verificada = obtener_fila_verificada(palabra_a_encontrar, palabra_ingresada)\n",
    "\n",
    "print(linea_verificada)"
   ]
  },
  {
   "cell_type": "markdown",
   "id": "e6fa522a",
   "metadata": {},
   "source": [
    "INICIAR juego\n",
    "\n",
    "DEFINIR palabra_a_encontrar\n",
    "\n",
    "DEFINIR cantidad_de_letras\n",
    "\n",
    "DEFINIR intentos\n",
    "\n",
    "CREAR grilla vacia (lista para mostrar el progreso del jugador)\n",
    "\n",
    "MOSTRAR mensaje de bienvanida"
   ]
  },
  {
   "cell_type": "code",
   "execution_count": null,
   "id": "00f5acf8",
   "metadata": {},
   "outputs": [
    {
     "name": "stdout",
     "output_type": "stream",
     "text": [
      "4\n"
     ]
    }
   ],
   "source": [
    "palabra_secreta = input(\"Ingrese la palabra secreta\")\n",
    "cantidad_de_letras = len(palabra_secreta)\n",
    "intentos = 5\n",
    "grilla_de_intentos = []\n",
    "\n",
    "print(\"BIEVENIDO AL JUEGO DE LETRAS\")\n"
   ]
  },
  {
   "cell_type": "code",
   "execution_count": 75,
   "id": "52bb4dd7",
   "metadata": {},
   "outputs": [
    {
     "name": "stdout",
     "output_type": "stream",
     "text": [
      "Bienvenido al juego de letras\n",
      "La palabra secreta tiene 5 letras\n",
      "Tienes 5 intentos\n",
      "['[h]', '[u]', '[e]', '[v]', 'a']\n",
      "te quedan 4 intentos\n",
      " \n",
      "['[h]', '[u]', '[e]', '[v]', 'a']\n",
      "['c', '[u]', '[e]', '[v]', 'a']\n",
      "te quedan 3 intentos\n",
      " \n",
      "['[h]', '[u]', '[e]', '[v]', 'a']\n",
      "['c', '[u]', '[e]', '[v]', 'a']\n",
      "['c', '[u]', '[e]', '[v]', '[o]']\n",
      "te quedan 2 intentos\n",
      " \n",
      "['[h]', '[u]', '[e]', '[v]', 'a']\n",
      "['c', '[u]', '[e]', '[v]', 'a']\n",
      "['c', '[u]', '[e]', '[v]', '[o]']\n",
      "['c', 'i', '[e]', 'l', '[o]']\n",
      "te quedan 1 intentos\n",
      " \n",
      "['[h]', '[u]', '[e]', '[v]', 'a']\n",
      "['c', '[u]', '[e]', '[v]', 'a']\n",
      "['c', '[u]', '[e]', '[v]', '[o]']\n",
      "['c', 'i', '[e]', 'l', '[o]']\n",
      "['[h]', '[u]', '[e]', '[v]', '[o]']\n",
      "Haz acertado!\n"
     ]
    }
   ],
   "source": [
    "#FUNCION COMPARACION DE CADA LETRA\n",
    "def obtener_fila_verificada(palabra_secreta, palabra_ingresada):\n",
    "    cantidad_de_letras_de_palabra_a_encontrar = cantidad_de_letras #Variable previamente definida arriba \n",
    "    \n",
    "    letras_verificadas = []\n",
    " \n",
    "    for posicion in range (cantidad_de_letras_de_palabra_a_encontrar): \n",
    "\n",
    "        las_letras_son_iguales = palabra_secreta[posicion] == palabra_ingresada[posicion]\n",
    "\n",
    "        la_letra_existe_en_la_palabra = palabra_ingresada[posicion] in palabra_secreta\n",
    "\n",
    "        if las_letras_son_iguales:\n",
    "            letras_verificadas.append( \"[\" + palabra_ingresada[posicion] + \"]\")\n",
    "\n",
    "        elif la_letra_existe_en_la_palabra:\n",
    "            letras_verificadas.append( \"(\" + palabra_ingresada[posicion] + \")\")\n",
    "\n",
    "        else: \n",
    "            letras_verificadas.append(palabra_ingresada[posicion])\n",
    "            \n",
    "    return letras_verificadas\n",
    "    \n",
    "\n",
    "#FUNCION GRILLA ORDANADA\n",
    "def imprimir_grilla (lista_auxiliar): \n",
    "    for sublista_letra in lista_auxiliar:\n",
    "        print(sublista_letra)\n",
    "\n",
    "#SELECCION DE PALABRA SECRETA\n",
    "palabra_secreta = input('Palabra secreta').lower()\n",
    "cantidad_de_letras = len(palabra_secreta)\n",
    "\n",
    "print('Bienvenido al juego de letras')\n",
    "print(f\"La palabra secreta tiene {cantidad_de_letras} letras\")\n",
    "print (\"Tienes 5 intentos\")\n",
    "# INTENTOS A REALIZAR\n",
    "\n",
    "intentos = 5 \n",
    "\n",
    "\n",
    "lista_auxiliar = []\n",
    "\n",
    "# CICLO PARA CADA INTENTO\n",
    "while intentos > 0: \n",
    "    palabra_tentativa = input ('introduce la palabra secreta').lower()\n",
    "    obtener_fila_verificada(palabra_secreta, palabra_tentativa)\n",
    "    linea_verificada = obtener_fila_verificada(palabra_secreta, palabra_tentativa)\n",
    "    lista_auxiliar.append(linea_verificada)\n",
    "    if palabra_secreta == palabra_tentativa:\n",
    "        imprimir_grilla(lista_auxiliar)\n",
    "        print(\"Haz acertado!\")\n",
    "        break\n",
    "    elif intentos == 1:\n",
    "        imprimir_grilla(lista_auxiliar)\n",
    "        print(f'te quedaste sin intentos. La palabra secreta era: {palabra_secreta}')\n",
    "        break\n",
    "    else:\n",
    "        intentos = intentos - 1\n",
    "        imprimir_grilla(lista_auxiliar) \n",
    "        print(f'te quedan {intentos} intentos')\n",
    "        print (\" \")\n",
    "        "
   ]
  },
  {
   "cell_type": "code",
   "execution_count": null,
   "id": "eccea8ec",
   "metadata": {},
   "outputs": [],
   "source": []
  }
 ],
 "metadata": {
  "kernelspec": {
   "display_name": "Python 3",
   "language": "python",
   "name": "python3"
  },
  "language_info": {
   "codemirror_mode": {
    "name": "ipython",
    "version": 3
   },
   "file_extension": ".py",
   "mimetype": "text/x-python",
   "name": "python",
   "nbconvert_exporter": "python",
   "pygments_lexer": "ipython3",
   "version": "3.13.1"
  }
 },
 "nbformat": 4,
 "nbformat_minor": 5
}
