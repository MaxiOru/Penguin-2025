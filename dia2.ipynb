{
 "cells": [
  {
   "cell_type": "markdown",
   "id": "aeef72e9",
   "metadata": {},
   "source": [
    "## Challenge🤺 - 20m\n",
    "Escribe un programa que pregunte al usuario por su edad y determine si tiene edad suficiente para comprar y consumir alcohol.\n",
    "Si el usuario tiene mas de 18 pero menos de 21 impirmir \"Podes tomar pero no comprar\"\n",
    "Si el usuario tiene menos de 18 imprimir \"Juguito nomas\"\n",
    "Si el usuario tiene mas de 21 imprimir \"Hace lo que quieras\""
   ]
  },
  {
   "cell_type": "code",
   "execution_count": 9,
   "id": "119dc889",
   "metadata": {},
   "outputs": [
    {
     "name": "stdout",
     "output_type": "stream",
     "text": [
      "Hace lo que quieras\n"
     ]
    }
   ],
   "source": [
    "edad = int(input(\"Ingrese su edad\"))\n",
    "\n",
    "if edad < 18:\n",
    "    print(\"Juguito nomas\")\n",
    "elif edad >= 21:\n",
    "    print (\"Hace lo que quieras\")\n",
    "else:\n",
    "    print(\"Podes tomar pero no comprar\")"
   ]
  },
  {
   "cell_type": "markdown",
   "id": "fe4e814d",
   "metadata": {},
   "source": [
    "## Challenge 🤺 - 30m\n",
    "Escribir un programa en el que se pregunte al usuario por una temperatura (en grados Celsius), imprima la temperatura escrita, y luego clasificar la temperatura ingresada en los siguientes niveles:\n",
    "\n",
    "Entre -10 y 18 grados, que imprima \"Fresquete\".\n",
    "Entre 19 y 30 grados, que imprima \"Calor'i\".\n",
    "Entre 31 y 45 grados, que imprima \"Hakuuuuuu\".\n",
    "Para todo lo demás, imprimir \"Ñamano mba'e!\"."
   ]
  },
  {
   "cell_type": "code",
   "execution_count": 20,
   "id": "979c4ebf",
   "metadata": {},
   "outputs": [
    {
     "name": "stdout",
     "output_type": "stream",
     "text": [
      "La actual es: 90\n",
      "Ñamano mba'e\n"
     ]
    }
   ],
   "source": [
    "temperatura = int(input(\"Ingrese la temperatura actual\"))\n",
    "print (f\"La actual es: {temperatura}\")\n",
    "\n",
    "if temperatura >= -10 and temperatura <= 18:\n",
    "    print (\"Fresquete\")\n",
    "elif temperatura >= 19 and temperatura <= 30:\n",
    "    print (\"Calor'i\")\n",
    "elif temperatura >= 31 and temperatura <= 45:\n",
    "    print (\"Hakuuuuu\")\n",
    "else:\n",
    "    print (\"Ñamano mba'e\")"
   ]
  },
  {
   "cell_type": "markdown",
   "id": "95c6d60f",
   "metadata": {},
   "source": [
    "## Challenge 🤺 - 20m\n",
    "Escribir un programa que almacene una contraseña en una variable, y pregunte al usuario por la contraseña hasta que introduzca la contraseña correcta.\n",
    "\n",
    "Cuando el usuario ingrese la contrasena correcta, imprimir un mensaje secreto."
   ]
  },
  {
   "cell_type": "code",
   "execution_count": null,
   "id": "36fe52a1",
   "metadata": {},
   "outputs": [
    {
     "name": "stdout",
     "output_type": "stream",
     "text": [
      "La contraseña es incorrecta, vuelva a introducirla\n",
      "La contraseña es incorrecta, vuelva a introducirla\n",
      "La contraseña es incorrecta, vuelva a introducirla\n",
      "La contraseña es incorrecta, vuelva a introducirla\n",
      "El mensaje oculto es: HORA DEL CAFE \n"
     ]
    }
   ],
   "source": [
    "contraseña_oculta = \"password\"\n",
    "contraseña_presunta = input (\"Ingrese la contraseña:\")\n",
    "\n",
    "while contraseña_oculta != contraseña_presunta:\n",
    "    print (\"La contraseña es incorrecta, vuelva a introducirla\")\n",
    "    contraseña_presunta = input (\"Ingrese la contraseña nuevamente\")\n",
    "    if contraseña_presunta == contraseña_oculta:\n",
    "        \n",
    "        break\n",
    "print (\"El mensaje oculto es: HORA DEL CAFE \")"
   ]
  },
  {
   "cell_type": "markdown",
   "id": "e29f7e64",
   "metadata": {},
   "source": [
    "## Challenge 🤺 - 20m\n",
    "Crear una lista de 5 elementos. Luego, seguir los siguientes pasos.\n",
    "\n",
    "Agregar un elemento al final de la lista.\n",
    "\n",
    "Modificar el segundo elemento.\n",
    "\n",
    "Eliminar el tercer elemento."
   ]
  },
  {
   "cell_type": "code",
   "execution_count": 33,
   "id": "732c6f0a",
   "metadata": {},
   "outputs": [
    {
     "name": "stdout",
     "output_type": "stream",
     "text": [
      "['celular', 'notebook', 'televisor', 'licuadora', 'mixtera', 'heladera']\n",
      "['celular', 'lavarropa', 'televisor', 'licuadora', 'mixtera', 'heladera']\n",
      "['celular', 'lavarropa', 'licuadora', 'mixtera', 'heladera']\n"
     ]
    }
   ],
   "source": [
    "lista_electrodomesticos = [\"celular\",\"notebook\",\"televisor\",\"licuadora\",\"mixtera\"]\n",
    "\n",
    "lista_electrodomesticos.append (\"heladera\")\n",
    "print(lista_electrodomesticos)\n",
    "lista_electrodomesticos[1] = \"lavarropa\"\n",
    "\n",
    "print(lista_electrodomesticos)\n",
    "lista_electrodomesticos.pop(2)\n",
    "\n",
    "print(lista_electrodomesticos)"
   ]
  },
  {
   "cell_type": "markdown",
   "id": "57141d8c",
   "metadata": {},
   "source": [
    "## Challenge 🤺 - 20m\n",
    "Escribir un programa que itere en un rango de 10 veces. Por cada iteracion multiplicar el iterador por dos e imprimir el resultado."
   ]
  },
  {
   "cell_type": "code",
   "execution_count": 35,
   "id": "3a6a2160",
   "metadata": {},
   "outputs": [
    {
     "name": "stdout",
     "output_type": "stream",
     "text": [
      "el valor es: 0\n",
      "el valor es: 2\n",
      "el valor es: 4\n",
      "el valor es: 6\n",
      "el valor es: 8\n",
      "el valor es: 10\n",
      "el valor es: 12\n",
      "el valor es: 14\n",
      "el valor es: 16\n",
      "el valor es: 18\n"
     ]
    }
   ],
   "source": [
    "for i in range(10):\n",
    "    print(f\"el valor es: {i*2}\")\n"
   ]
  },
  {
   "cell_type": "markdown",
   "id": "4572a563",
   "metadata": {},
   "source": [
    "## Challenge 🤺 - 20m\n",
    "Recorrer los elementos de una lista de marcas e imprimir cada marca solamente si tiene 6 letras o más."
   ]
  },
  {
   "cell_type": "code",
   "execution_count": 44,
   "id": "a5725fbb",
   "metadata": {},
   "outputs": [
    {
     "name": "stdout",
     "output_type": "stream",
     "text": [
      "adidas\n",
      "diadora\n",
      "reebook\n"
     ]
    }
   ],
   "source": [
    "lista_marcas=[\"nike\",\"adidas\",\"puma\",\"diadora\",\"reebook\"]\n",
    "\n",
    "for i in range (5):\n",
    "    if len(lista_marcas[i]) >= 6:\n",
    "        print (lista_marcas[i])\n"
   ]
  },
  {
   "cell_type": "code",
   "execution_count": 42,
   "id": "f7a60df6",
   "metadata": {},
   "outputs": [
    {
     "name": "stdout",
     "output_type": "stream",
     "text": [
      "adidas\n",
      "diadora\n",
      "reebook\n"
     ]
    }
   ],
   "source": [
    "lista_marcas=[\"nike\",\"adidas\",\"puma\",\"diadora\",\"reebook\"]\n",
    "\n",
    "for i in range (len(lista_marcas)):\n",
    "    if len(lista_marcas[i]) >= 6:\n",
    "        print (lista_marcas[i])\n"
   ]
  },
  {
   "cell_type": "markdown",
   "id": "aa7b9797",
   "metadata": {},
   "source": [
    "## Challenge 🤺 - 15m\n",
    "Solicitar al usuario que ingrese una frase.\n",
    "\n",
    "Imprimir un mensaje cada vez que se encuentre una letra \"o\"."
   ]
  },
  {
   "cell_type": "code",
   "execution_count": 50,
   "id": "76957c62",
   "metadata": {},
   "outputs": [
    {
     "name": "stdout",
     "output_type": "stream",
     "text": [
      "Tiene letra o\n",
      "Tiene letra o\n",
      "Tiene letra o\n",
      "Tiene letra o\n"
     ]
    }
   ],
   "source": [
    "frase = input(\"Ingrese una frase:\")\n",
    "\n",
    "\n",
    "for letra in frase:\n",
    "    if letra==\"o\":\n",
    "        print (\"Tiene letra o\")"
   ]
  }
 ],
 "metadata": {
  "kernelspec": {
   "display_name": "Python 3",
   "language": "python",
   "name": "python3"
  },
  "language_info": {
   "codemirror_mode": {
    "name": "ipython",
    "version": 3
   },
   "file_extension": ".py",
   "mimetype": "text/x-python",
   "name": "python",
   "nbconvert_exporter": "python",
   "pygments_lexer": "ipython3",
   "version": "3.13.1"
  }
 },
 "nbformat": 4,
 "nbformat_minor": 5
}
